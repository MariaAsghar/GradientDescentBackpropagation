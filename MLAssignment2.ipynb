{
  "nbformat": 4,
  "nbformat_minor": 0,
  "metadata": {
    "colab": {
      "provenance": [],
      "include_colab_link": true
    },
    "kernelspec": {
      "name": "python3",
      "display_name": "Python 3"
    },
    "language_info": {
      "name": "python"
    }
  },
  "cells": [
    {
      "cell_type": "markdown",
      "metadata": {
        "id": "view-in-github",
        "colab_type": "text"
      },
      "source": [
        "<a href=\"https://colab.research.google.com/github/MariaAsghar/GradientDescentBackpropagation/blob/master/MLAssignment2.ipynb\" target=\"_parent\"><img src=\"https://colab.research.google.com/assets/colab-badge.svg\" alt=\"Open In Colab\"/></a>"
      ]
    },
    {
      "cell_type": "code",
      "execution_count": null,
      "metadata": {
        "id": "WM-eqSc9PzOZ"
      },
      "outputs": [],
      "source": [
        "#Implementation of Gradient Algorithm"
      ]
    },
    {
      "cell_type": "code",
      "source": [
        "import numpy as np\n",
        "\n",
        "file_path = '/content/mnistset.bin'  # Replace with the correct file path\n",
        "# Load the binary file into a NumPy array\n",
        "training_data = np.fromfile(file_path, dtype=np.float32)\n",
        "# Print the array\n",
        "print(\"training_data\")\n",
        "print(training_data)\n",
        "\n",
        "file_path = '/content/labels.bin'  # Replace with the correct file path\n",
        "# Load the binary file into a NumPy array\n",
        "training_labels = np.fromfile(file_path, dtype=np.int32)\n",
        "# Print the array\n",
        "print(\"training_labels\")\n",
        "print(training_labels)\n",
        "\n",
        "file_path = '/content/mnistset_test.bin'  # Replace with the correct file path\n",
        "# Load the binary file into a NumPy array\n",
        "test_data = np.fromfile(file_path, dtype=np.float32)\n",
        "# Print the array\n",
        "print(\"test_data\")\n",
        "print(test_data)\n",
        "\n",
        "file_path = '/content/labels.bin'  # Replace with the correct file path\n",
        "# Load the binary file into a NumPy array\n",
        "test_labels = np.fromfile(file_path, dtype=np.float32)\n",
        "# Print the array\n",
        "print(\"test_labels\")\n",
        "print(test_labels)"
      ],
      "metadata": {
        "colab": {
          "base_uri": "https://localhost:8080/"
        },
        "id": "IXLAbBz4aySR",
        "outputId": "ec745a60-bb7f-4b83-eb46-d1ec30c4b1a9"
      },
      "execution_count": 4,
      "outputs": [
        {
          "output_type": "stream",
          "name": "stdout",
          "text": [
            "training_data\n",
            "[2.2366853e+08 1.2387478e-40 3.4833396e-15 ... 0.0000000e+00 0.0000000e+00\n",
            " 0.0000000e+00]\n",
            "training_labels\n",
            "[1297436307      88400  662372422 ...          0          8          0]\n",
            "test_data\n",
            "[2.2366853e+08 1.2387478e-40 3.4833497e-15 ... 0.0000000e+00 0.0000000e+00\n",
            " 0.0000000e+00]\n",
            "test_labels\n",
            "[2.2366853e+08 1.2387478e-40 3.4833396e-15 ... 0.0000000e+00 1.1210388e-44\n",
            " 0.0000000e+00]\n"
          ]
        }
      ]
    },
    {
      "cell_type": "markdown",
      "source": [
        "Main Py"
      ],
      "metadata": {
        "id": "4l8JE2WETrGV"
      }
    },
    {
      "cell_type": "code",
      "source": [
        "import numpy as np\n",
        "\n",
        "#set the data and labels from the training and test sets\n",
        "#the data must have form list of lists such as [example 1, example 2, ...]\n",
        "#where each example is a list of features, such as example 1 = [pixel 1, pixel 2, ...]\n",
        "\n",
        "norm = 1.0 #normalize data\n",
        "check_test = True #check the performance on the testing data after each epoch\n",
        "number_examples_test = 100 #number of examples in the test set\n",
        "hot_label = True#true if the label need to be transformed to one-hot enconding scheme, false if the label is the output layer target. Set False for regression problems.\n",
        "\n",
        "#set network // format: [input layer, hidden layer 1, hidden layer 2, ..., output layer]\n",
        "net = [784,100,10]\n",
        "\n",
        "#set training parameters\n",
        "epochs = 30 #number of times the network will train with the training set\n",
        "number_examples_training = 100 #number of examples provided to network from the training set\n",
        "mini_batch_size = 1 #number of examples to calculate the gradients before update the learning parameters\n",
        "suffle_training = True #shuffle the examples in the training set\n",
        "\n",
        "#set hyperparameters\n",
        "learning_rate = 0.01 #size of the gradient to update the learning parameters\n",
        "momentum_rate = 0.0 #rate of the momentum for optimization, 0 if SGD\n",
        "tau = 100.0 #time step size\n",
        "period = 1 #time steps\n",
        "\n",
        "######################################################################################################################\n",
        "def data():\n",
        "    return [norm,training_data,training_labels,test_data,test_labels,check_test,number_examples_test,hot_label]\n",
        "\n",
        "def network():\n",
        "    return [net, epochs, number_examples_training,mini_batch_size,suffle_training,learning_rate,momentum_rate,tau,period]\n"
      ],
      "metadata": {
        "id": "EUQoyPgBRy05"
      },
      "execution_count": 5,
      "outputs": []
    },
    {
      "cell_type": "code",
      "source": [],
      "metadata": {
        "id": "_2OooK89ZdMX"
      },
      "execution_count": null,
      "outputs": []
    },
    {
      "cell_type": "markdown",
      "source": [
        "Test py"
      ],
      "metadata": {
        "id": "0F8eIU4ITyxt"
      }
    },
    {
      "cell_type": "code",
      "source": [
        "import numpy as np\n",
        "import  pickle\n",
        "\n",
        "#load the data from the main script\n",
        "norm = data()[0]\n",
        "test_data = data()[3]\n",
        "test_labels = data()[4]\n",
        "total = data()[6]\n",
        "hot_label = data()[7]\n",
        "\n",
        "#load the parameters from the main script\n",
        "net = network()[0]\n",
        "\n",
        "#activation function\n",
        "def f(z):\n",
        "    if z>100.0:\n",
        "        return 1.0\n",
        "    elif z<-100.0:\n",
        "        return 0.0\n",
        "    else:\n",
        "        return 1.0/(1.0+np.exp(-z))\n",
        "\n",
        "x=[] #input to each neuron\n",
        "y=[] #activation of each neuron\n",
        "for layer in range(len(net)):\n",
        "    x.append(np.array([0.0]*net[layer]))\n",
        "    y.append(np.array([0.0]*net[layer]))\n",
        "\n",
        "def getScore():\n",
        "    score_test = 0.0\n",
        "    weights = pickle.load( open( \"weights\", \"rb\" ) )\n",
        "    loss_test = 0.0\n",
        "    \n",
        "    for example in range(total):\n",
        "        #update activation of each neuron\n",
        "        y[0] = test_data[example]/norm\n",
        "        for layer in range(1,len(net)):\n",
        "            x[layer]=np.dot(weights[layer-1],y[layer-1])\n",
        "            y[layer]=map(f,x[layer])\n",
        "        \n",
        "        #guess the class from classifcation problem\n",
        "        guess = np.argmax(y[len(net)-1])\n",
        "        \n",
        "        if hot_label==True:\n",
        "            target = np.array([0.0]*net[len(net)-1])\n",
        "            target[test_labels[example]] = 1.0\n",
        "        else:\n",
        "            target = test_labels[example]\n",
        "        \n",
        "        #classification performance on the test data\n",
        "        if hot_label == True: #for classification problems\n",
        "            if guess == test_labels[example]:\n",
        "                score_test += 1.0\n",
        "        loss_test += (0.5/total)*(1.0/net[len(net)-1])*sum( (target - y[len(net)-1])**2.0)\n",
        "    \n",
        "    if hot_label == True:\n",
        "        return score_test/total, loss_test\n",
        "    else:\n",
        "        return loss_test\n"
      ],
      "metadata": {
        "id": "VXkHH0l5SGMX"
      },
      "execution_count": 6,
      "outputs": []
    },
    {
      "cell_type": "markdown",
      "source": [
        "Target py"
      ],
      "metadata": {
        "id": "5wNBbPujT3al"
      }
    },
    {
      "cell_type": "code",
      "source": [
        "#-----------------------------------------------Atefeh-------\n",
        "import random, sys ,pickle\n",
        "import numpy as np\n",
        "import  test\n",
        "\n",
        "#load the data from the main script\n",
        "norm = data()[0]\n",
        "training_data = data()[1]\n",
        "training_labels = data()[2]\n",
        "check_test = data()[5]\n",
        "hot_label = data()[7]\n",
        "\n",
        "#load the parameters from the main script\n",
        "net = network()[0]\n",
        "epochs = network()[1]\n",
        "number_examples = network()[2]\n",
        "mini_batch_size = network()[3]\n",
        "suffle_training = network()[4]\n",
        "learning_rate = network()[5]\n",
        "momentum_rate = network()[6]\n",
        "tau = network()[7]\n",
        "period = network()[8]\n",
        "\n",
        "#activation function\n",
        "def f(z):\n",
        "    if z>100.0:\n",
        "        return 1.0\n",
        "    elif z<-100.0:\n",
        "        return 0.0\n",
        "    else:\n",
        "        return 1.0/(1.0+np.exp(-z))\n",
        "\n",
        "#derivative of the activation function\n",
        "def fprime(z):\n",
        "    return f(z)*(1.0-f(z))\n",
        "\n",
        "x=[] #input to each neuron\n",
        "y=[] #activation of each neuron\n",
        "target=[] #target of each neuron\n",
        "for layer in range(len(net)):\n",
        "    x.append(np.array([0.0]*net[layer]))\n",
        "    y.append(np.array([0.0]*net[layer]))\n",
        "    target.append(np.array([0.0]*net[layer]))\n",
        "\n",
        "#initialize weights and momentum\n",
        "weights=[]\n",
        "momentum=[]\n",
        "for layer in range(len(net)-1):\n",
        "    if layer==0:\n",
        "        sigma=(48.0/(35.0*net[layer]))**0.5\n",
        "    else:\n",
        "        sigma=(16.0/(11.0*net[layer]))**0.5\n",
        "    momentum.append(np.zeros((net[layer+1],net[layer])))\n",
        "    weights.append(np.random.normal(0.0,sigma,(net[layer+1],net[layer])))\n",
        "\n",
        "##-------------------------------------------------Maria\n",
        "#initialize gradients\n",
        "gradients=[]\n",
        "for layer in range(len(net)-1):\n",
        "    gradients.append(np.zeros((net[layer+1],net[layer])))\n",
        "\n",
        "list_of_examples = []\n",
        "for example in range(number_examples):\n",
        "    list_of_examples.append(example)\n",
        "\n",
        "for trials in range(epochs):\n",
        "    score_training = 0.0\n",
        "    example_counter = 0.0\n",
        "    batch_counter = 0\n",
        "    score_training = 0.0\n",
        "    loss_training = 0.0\n",
        "    \n",
        "    if suffle_training == True:\n",
        "        random.shuffle(list_of_examples)\n",
        "    \n",
        "    for example in list_of_examples:\n",
        "        example_counter += 1.0\n",
        "        batch_counter += 1\n",
        "        \n",
        "        if hot_label==True:\n",
        "            print(\"hello1\")\n",
        "            target[len(net)-1] = np.array([0.0]*net[len(net)-1])\n",
        "            print(\"hello2\")\n",
        "            target[len(net)-1][training_labels[example]] = 1.0\n",
        "            ##\n",
        "        else:\n",
        "            target[len(net)-1] = training_labels[example]\n",
        "\n",
        "        #update activation of each neuron\n",
        "        y[0] = training_data[example]/norm\n",
        "        for layer in range(1,len(net)):\n",
        "            print(type(weights[layer-1]))\n",
        "            print(type(y[layer-1]))\n",
        "            x[layer]=np.dot(weights[layer-1],y[layer-1])\n",
        "            y[layer]=map(f,x[layer])\n",
        "        \n",
        "        #guess the class from classifcation problem\n",
        "        if hot_label == True:\n",
        "            guess = np.argmax(y[len(net)-1])\n",
        "           \n",
        "        #calculate online loss on training data\n",
        "        loss_training += (0.5/number_examples)*(1.0/net[len(net)-1])*sum( (target[len(net)-1] - y[len(net)-1])**2.0)\n",
        "#---------------------------Shahzeb--------------------------------------      \n",
        "        if batch_counter <= mini_batch_size:\n",
        "            #compute gradient from the output layer\n",
        "            gradient_output = (y[len(net)-1]-target[len(net)-1])*map(fprime,x[len(net)-1])\n",
        "            gradients[len(net)-2] += np.outer(gradient_output,y[len(net)-2])\n",
        "            \n",
        "            graph = open('score','w', 0)\n",
        "            #compute targets for all hidden layers\n",
        "            \n",
        "            for layer in range(len(net)-2,0,-1):\n",
        "                target[layer] = np.array([0.0]*net[layer])\n",
        "                x_hat = x[layer+1][:]\n",
        "                y_hat = y[layer+1][:]\n",
        "                \n",
        "                for time_steps in range(period):\n",
        "                    target[layer] += -tau*np.dot(np.transpose(weights[layer]),(y_hat-target[layer+1])*map(fprime,x_hat))\n",
        "                    x_hat = np.dot(weights[layer],target[layer])\n",
        "                    y_hat = map(f,x_hat)\n",
        "\n",
        "                #compute gradients from the hidden layers\n",
        "                gradients[layer-1] += -np.outer((target[layer]-y[layer])*map(fprime,x[layer]),y[layer-1])\n",
        "                \n",
        "        #update the learning parameters\n",
        "        if batch_counter == mini_batch_size:\n",
        "            for layer in range(0,len(net)-1):\n",
        "                momentum[layer] = momentum_rate*momentum[layer] - (1.0-momentum_rate)*learning_rate*gradients[layer]/mini_batch_size\n",
        "                weights[layer] += momentum[layer]\n",
        "  #------------------------------Nawordth---------------------------          \n",
        "            #reset batch counter and gradients\n",
        "            batch_counter = 0\n",
        "            for layer in range(len(net)-1):\n",
        "                gradients[layer] = np.zeros((net[layer+1],net[layer]))\n",
        "            \n",
        "        #online classification performance on the training data\n",
        "        if hot_label == True:\n",
        "            if guess == training_labels[example]:\n",
        "                score_training += 1.0\n",
        "            \n",
        "        sys.stdout.write(\"\\r%f %f %i %i\" % (score_training/example_counter,loss_training,example_counter,trials))\n",
        "        sys.stdout.flush()\n",
        "        \n",
        "    #save the weights after each epoch\n",
        "    address = file(\"weights\",\"wb\")\n",
        "    pickle.dump(weights, address)\n",
        "    address.close()\n",
        "    \n",
        "    if check_test == True:\n",
        "        score_test = test.getScore()\n",
        "        print (' ')\n",
        "        print('epoch: ',trials, ' score test, loss: ',score_test)\n"
      ],
      "metadata": {
        "id": "kjIFcEBfT8kV",
        "colab": {
          "base_uri": "https://localhost:8080/",
          "height": 368
        },
        "outputId": "02578bfe-dea5-48c2-a24f-15e315cb196b"
      },
      "execution_count": 10,
      "outputs": [
        {
          "output_type": "stream",
          "name": "stdout",
          "text": [
            "hello1\n",
            "hello2\n",
            "<class 'numpy.ndarray'>\n",
            "<class 'numpy.float64'>\n",
            "<class 'numpy.ndarray'>\n",
            "<class 'map'>\n"
          ]
        },
        {
          "output_type": "error",
          "ename": "TypeError",
          "evalue": "ignored",
          "traceback": [
            "\u001b[0;31m---------------------------------------------------------------------------\u001b[0m",
            "\u001b[0;31mTypeError\u001b[0m                                 Traceback (most recent call last)",
            "\u001b[0;32m<ipython-input-10-fb0c90fe7985>\u001b[0m in \u001b[0;36m<cell line: 66>\u001b[0;34m()\u001b[0m\n\u001b[1;32m     92\u001b[0m             \u001b[0mprint\u001b[0m\u001b[0;34m(\u001b[0m\u001b[0mtype\u001b[0m\u001b[0;34m(\u001b[0m\u001b[0mweights\u001b[0m\u001b[0;34m[\u001b[0m\u001b[0mlayer\u001b[0m\u001b[0;34m-\u001b[0m\u001b[0;36m1\u001b[0m\u001b[0;34m]\u001b[0m\u001b[0;34m)\u001b[0m\u001b[0;34m)\u001b[0m\u001b[0;34m\u001b[0m\u001b[0;34m\u001b[0m\u001b[0m\n\u001b[1;32m     93\u001b[0m             \u001b[0mprint\u001b[0m\u001b[0;34m(\u001b[0m\u001b[0mtype\u001b[0m\u001b[0;34m(\u001b[0m\u001b[0my\u001b[0m\u001b[0;34m[\u001b[0m\u001b[0mlayer\u001b[0m\u001b[0;34m-\u001b[0m\u001b[0;36m1\u001b[0m\u001b[0;34m]\u001b[0m\u001b[0;34m)\u001b[0m\u001b[0;34m)\u001b[0m\u001b[0;34m\u001b[0m\u001b[0;34m\u001b[0m\u001b[0m\n\u001b[0;32m---> 94\u001b[0;31m             \u001b[0mx\u001b[0m\u001b[0;34m[\u001b[0m\u001b[0mlayer\u001b[0m\u001b[0;34m]\u001b[0m\u001b[0;34m=\u001b[0m\u001b[0mnp\u001b[0m\u001b[0;34m.\u001b[0m\u001b[0mdot\u001b[0m\u001b[0;34m(\u001b[0m\u001b[0mweights\u001b[0m\u001b[0;34m[\u001b[0m\u001b[0mlayer\u001b[0m\u001b[0;34m-\u001b[0m\u001b[0;36m1\u001b[0m\u001b[0;34m]\u001b[0m\u001b[0;34m,\u001b[0m\u001b[0my\u001b[0m\u001b[0;34m[\u001b[0m\u001b[0mlayer\u001b[0m\u001b[0;34m-\u001b[0m\u001b[0;36m1\u001b[0m\u001b[0;34m]\u001b[0m\u001b[0;34m)\u001b[0m\u001b[0;34m\u001b[0m\u001b[0;34m\u001b[0m\u001b[0m\n\u001b[0m\u001b[1;32m     95\u001b[0m             \u001b[0my\u001b[0m\u001b[0;34m[\u001b[0m\u001b[0mlayer\u001b[0m\u001b[0;34m]\u001b[0m\u001b[0;34m=\u001b[0m\u001b[0mmap\u001b[0m\u001b[0;34m(\u001b[0m\u001b[0mf\u001b[0m\u001b[0;34m,\u001b[0m\u001b[0mx\u001b[0m\u001b[0;34m[\u001b[0m\u001b[0mlayer\u001b[0m\u001b[0;34m]\u001b[0m\u001b[0;34m)\u001b[0m\u001b[0;34m\u001b[0m\u001b[0;34m\u001b[0m\u001b[0m\n\u001b[1;32m     96\u001b[0m \u001b[0;34m\u001b[0m\u001b[0m\n",
            "\u001b[0;32m/usr/local/lib/python3.10/dist-packages/numpy/core/overrides.py\u001b[0m in \u001b[0;36mdot\u001b[0;34m(*args, **kwargs)\u001b[0m\n",
            "\u001b[0;31mTypeError\u001b[0m: unsupported operand type(s) for *: 'float' and 'map'"
          ]
        }
      ]
    },
    {
      "cell_type": "code",
      "source": [
        "     for example in list_of_examples:\n",
        "        example_counter += 1.0\n",
        "        batch_counter += 1\n",
        "        \n",
        "        if hot_label==True:\n",
        "            target[len(net)-1] = np.array([0.0]*net[len(net)-1])\n",
        "            target[len(net)-1][training_labels[example]] = 1.0\n",
        "        else:\n",
        "            target[len(net)-1] = training_labels[example]\n"
      ],
      "metadata": {
        "colab": {
          "base_uri": "https://localhost:8080/",
          "height": 235
        },
        "id": "TRE8PHpFQjlm",
        "outputId": "956b6adf-65ce-454c-c9a6-e1e6a5da98ca"
      },
      "execution_count": null,
      "outputs": [
        {
          "output_type": "error",
          "ename": "IndexError",
          "evalue": "ignored",
          "traceback": [
            "\u001b[0;31m---------------------------------------------------------------------------\u001b[0m",
            "\u001b[0;31mIndexError\u001b[0m                                Traceback (most recent call last)",
            "\u001b[0;32m<ipython-input-22-6d65f8f9305f>\u001b[0m in \u001b[0;36m<cell line: 1>\u001b[0;34m()\u001b[0m\n\u001b[1;32m      5\u001b[0m    \u001b[0;32mif\u001b[0m \u001b[0mhot_label\u001b[0m\u001b[0;34m==\u001b[0m\u001b[0;32mTrue\u001b[0m\u001b[0;34m:\u001b[0m\u001b[0;34m\u001b[0m\u001b[0;34m\u001b[0m\u001b[0m\n\u001b[1;32m      6\u001b[0m        \u001b[0mtarget\u001b[0m\u001b[0;34m[\u001b[0m\u001b[0mlen\u001b[0m\u001b[0;34m(\u001b[0m\u001b[0mnet\u001b[0m\u001b[0;34m)\u001b[0m\u001b[0;34m-\u001b[0m\u001b[0;36m1\u001b[0m\u001b[0;34m]\u001b[0m \u001b[0;34m=\u001b[0m \u001b[0mnp\u001b[0m\u001b[0;34m.\u001b[0m\u001b[0marray\u001b[0m\u001b[0;34m(\u001b[0m\u001b[0;34m[\u001b[0m\u001b[0;36m0.0\u001b[0m\u001b[0;34m]\u001b[0m\u001b[0;34m*\u001b[0m\u001b[0mnet\u001b[0m\u001b[0;34m[\u001b[0m\u001b[0mlen\u001b[0m\u001b[0;34m(\u001b[0m\u001b[0mnet\u001b[0m\u001b[0;34m)\u001b[0m\u001b[0;34m-\u001b[0m\u001b[0;36m1\u001b[0m\u001b[0;34m]\u001b[0m\u001b[0;34m)\u001b[0m\u001b[0;34m\u001b[0m\u001b[0;34m\u001b[0m\u001b[0m\n\u001b[0;32m----> 7\u001b[0;31m        \u001b[0mtarget\u001b[0m\u001b[0;34m[\u001b[0m\u001b[0mlen\u001b[0m\u001b[0;34m(\u001b[0m\u001b[0mnet\u001b[0m\u001b[0;34m)\u001b[0m\u001b[0;34m-\u001b[0m\u001b[0;36m1\u001b[0m\u001b[0;34m]\u001b[0m\u001b[0;34m[\u001b[0m\u001b[0mtraining_labels\u001b[0m\u001b[0;34m[\u001b[0m\u001b[0mexample\u001b[0m\u001b[0;34m]\u001b[0m\u001b[0;34m]\u001b[0m \u001b[0;34m=\u001b[0m \u001b[0;36m1.0\u001b[0m\u001b[0;34m\u001b[0m\u001b[0;34m\u001b[0m\u001b[0m\n\u001b[0m\u001b[1;32m      8\u001b[0m    \u001b[0;32melse\u001b[0m\u001b[0;34m:\u001b[0m\u001b[0;34m\u001b[0m\u001b[0;34m\u001b[0m\u001b[0m\n\u001b[1;32m      9\u001b[0m        \u001b[0mtarget\u001b[0m\u001b[0;34m[\u001b[0m\u001b[0mlen\u001b[0m\u001b[0;34m(\u001b[0m\u001b[0mnet\u001b[0m\u001b[0;34m)\u001b[0m\u001b[0;34m-\u001b[0m\u001b[0;36m1\u001b[0m\u001b[0;34m]\u001b[0m \u001b[0;34m=\u001b[0m \u001b[0mtraining_labels\u001b[0m\u001b[0;34m[\u001b[0m\u001b[0mexample\u001b[0m\u001b[0;34m]\u001b[0m\u001b[0;34m\u001b[0m\u001b[0;34m\u001b[0m\u001b[0m\n",
            "\u001b[0;31mIndexError\u001b[0m: only integers, slices (`:`), ellipsis (`...`), numpy.newaxis (`None`) and integer or boolean arrays are valid indices"
          ]
        }
      ]
    },
    {
      "cell_type": "code",
      "source": [
        "training_labels[example]"
      ],
      "metadata": {
        "colab": {
          "base_uri": "https://localhost:8080/"
        },
        "id": "VE54YZN5wtar",
        "outputId": "d27faed3-79db-4cb0-f235-d803c14e3c3a"
      },
      "execution_count": null,
      "outputs": [
        {
          "output_type": "execute_result",
          "data": {
            "text/plain": [
              "3.4833396e-15"
            ]
          },
          "metadata": {},
          "execution_count": 22
        }
      ]
    },
    {
      "cell_type": "code",
      "source": [
        "import random, sys ,pickle\n",
        "import numpy as np\n",
        "import  test\n",
        "\n",
        "#load the data from the main script\n",
        "norm = data()[0]\n",
        "training_data = data()[1]\n",
        "training_labels = data()[2]\n",
        "check_test = data()[5]\n",
        "hot_label = data()[7]\n",
        "\n",
        "#load the parameters from the main script\n",
        "net = network()[0]\n",
        "epochs = network()[1]\n",
        "number_examples = network()[2]\n",
        "mini_batch_size = network()[3]\n",
        "suffle_training = network()[4]\n",
        "learning_rate = network()[5]\n",
        "momentum_rate = network()[6]\n",
        "tau = network()[7]\n",
        "period = network()[8]\n",
        "\n",
        "#activation function\n",
        "def f(z):\n",
        "    if z>100.0:\n",
        "        return 1.0\n",
        "    elif z<-100.0:\n",
        "        return 0.0\n",
        "    else:\n",
        "        return 1.0/(1.0+np.exp(-z))\n",
        "\n",
        "#derivative of the activation function\n",
        "def fprime(z):\n",
        "    return f(z)*(1.0-f(z))\n",
        "\n",
        "x=[] #input to each neuron\n",
        "y=[] #activation of each neuron\n",
        "target=[] #target of each neuron\n",
        "for layer in range(len(net)):\n",
        "    x.append(np.array([0.0]*net[layer]))\n",
        "    y.append(np.array([0.0]*net[layer]))\n",
        "    target.append(np.array([0.0]*net[layer]))\n",
        "\n",
        "#initialize weights and momentum\n",
        "weights=[]\n",
        "momentum=[]\n",
        "for layer in range(len(net)-1):\n",
        "    if layer==0:\n",
        "        sigma=(48.0/(35.0*net[layer]))**0.5\n",
        "    else:\n",
        "        sigma=(16.0/(11.0*net[layer]))**0.5\n",
        "    momentum.append(np.zeros((net[layer+1],net[layer])))\n",
        "    weights.append(np.random.normal(0.0,sigma,(net[layer+1],net[layer])))\n",
        "\n",
        "#initialize gradients\n",
        "gradients=[]\n",
        "for layer in range(len(net)-1):\n",
        "    gradients.append(np.zeros((net[layer+1],net[layer])))\n",
        "\n",
        "list_of_examples = []\n",
        "for example in range(number_examples):\n",
        "    list_of_examples.append(example)\n",
        "\n",
        "for trials in range(epochs):\n",
        "    score_training = 0.0\n",
        "    example_counter = 0.0\n",
        "    batch_counter = 0\n",
        "    score_training = 0.0\n",
        "    loss_training = 0.0\n",
        "    \n",
        "    if suffle_training == True:\n",
        "        random.shuffle(list_of_examples)\n",
        "    \n",
        "    for example in list_of_examples:\n",
        "        example_counter += 1.0\n",
        "        batch_counter += 1\n",
        "        \n",
        "        if hot_label==True:\n",
        "            target[len(net)-1] = np.array([0.0]*net[len(net)-1])\n",
        "            target[len(net)-1][training_labels[example]] = 1.0\n",
        "        else:\n",
        "            target[len(net)-1] = training_labels[example]\n",
        "        \n",
        "        #update activation of each neuron\n",
        "        y[0] = training_data[example]/norm\n",
        "        for layer in range(1,len(net)):\n",
        "            x[layer]=np.dot(weights[layer-1],y[layer-1])\n",
        "            y[layer]=map(f,x[layer])\n",
        "        \n",
        "        #guess the class from classifcation problem\n",
        "        if hot_label == True:\n",
        "            guess = np.argmax(y[len(net)-1])\n",
        "        \n",
        "        #calculate online loss on training data\n",
        "        loss_training += (0.5/number_examples)*(1.0/net[len(net)-1])*sum( (target[len(net)-1] - y[len(net)-1])**2.0)\n",
        "        \n",
        "        if batch_counter <= mini_batch_size:\n",
        "            #compute gradient from the output layer\n",
        "            gradient_output = (y[len(net)-1]-target[len(net)-1])*map(fprime,x[len(net)-1])\n",
        "            gradients[len(net)-2] += np.outer(gradient_output,y[len(net)-2])\n",
        "            \n",
        "            graph = open('score','w', 0)\n",
        "            #compute targets for all hidden layers\n",
        "            \n",
        "            for layer in range(len(net)-2,0,-1):\n",
        "                target[layer] = np.array([0.0]*net[layer])\n",
        "                x_hat = x[layer+1][:]\n",
        "                y_hat = y[layer+1][:]\n",
        "                \n",
        "                for time_steps in range(period):\n",
        "                    target[layer] += -tau*np.dot(np.transpose(weights[layer]),(y_hat-target[layer+1])*map(fprime,x_hat))\n",
        "                    x_hat = np.dot(weights[layer],target[layer])\n",
        "                    y_hat = map(f,x_hat)\n",
        "\n",
        "                #compute gradients from the hidden layers\n",
        "                gradients[layer-1] += -np.outer((target[layer]-y[layer])*map(fprime,x[layer]),y[layer-1])\n",
        "                \n",
        "        #update the learning parameters\n",
        "        if batch_counter == mini_batch_size:\n",
        "            for layer in range(0,len(net)-1):\n",
        "                momentum[layer] = momentum_rate*momentum[layer] - (1.0-momentum_rate)*learning_rate*gradients[layer]/mini_batch_size\n",
        "                weights[layer] += momentum[layer]\n",
        "            \n",
        "            #reset batch counter and gradients\n",
        "            batch_counter = 0\n",
        "            for layer in range(len(net)-1):\n",
        "                gradients[layer] = np.zeros((net[layer+1],net[layer]))\n",
        "            \n",
        "        #online classification performance on the training data\n",
        "        if hot_label == True:\n",
        "            if guess == training_labels[example]:\n",
        "                score_training += 1.0\n",
        "            \n",
        "        sys.stdout.write(\"\\r%f %f %i %i\" % (score_training/example_counter,loss_training,example_counter,trials))\n",
        "        sys.stdout.flush()\n",
        "        \n",
        "    #save the weights after each epoch\n",
        "    address = file(\"weights\",\"wb\")\n",
        "    pickle.dump(weights, address)\n",
        "    address.close()\n",
        "    \n",
        "    if check_test == True:\n",
        "        score_test = test.getScore()\n",
        "        print (' ')\n",
        "        print('epoch: ',trials, ' score test, loss: ',score_test)\n"
      ],
      "metadata": {
        "colab": {
          "base_uri": "https://localhost:8080/",
          "height": 240
        },
        "id": "8cCPBOEJs8iB",
        "outputId": "37e15e53-bd54-4fcf-eecf-25a97500b70c"
      },
      "execution_count": null,
      "outputs": [
        {
          "output_type": "error",
          "ename": "IndexError",
          "evalue": "ignored",
          "traceback": [
            "\u001b[0;31m---------------------------------------------------------------------------\u001b[0m",
            "\u001b[0;31mIndexError\u001b[0m                                Traceback (most recent call last)",
            "\u001b[0;32m<ipython-input-41-a992b58a413c>\u001b[0m in \u001b[0;36m<cell line: 64>\u001b[0;34m()\u001b[0m\n\u001b[1;32m     78\u001b[0m         \u001b[0;32mif\u001b[0m \u001b[0mhot_label\u001b[0m\u001b[0;34m==\u001b[0m\u001b[0;32mTrue\u001b[0m\u001b[0;34m:\u001b[0m\u001b[0;34m\u001b[0m\u001b[0;34m\u001b[0m\u001b[0m\n\u001b[1;32m     79\u001b[0m             \u001b[0mtarget\u001b[0m\u001b[0;34m[\u001b[0m\u001b[0mlen\u001b[0m\u001b[0;34m(\u001b[0m\u001b[0mnet\u001b[0m\u001b[0;34m)\u001b[0m\u001b[0;34m-\u001b[0m\u001b[0;36m1\u001b[0m\u001b[0;34m]\u001b[0m \u001b[0;34m=\u001b[0m \u001b[0mnp\u001b[0m\u001b[0;34m.\u001b[0m\u001b[0marray\u001b[0m\u001b[0;34m(\u001b[0m\u001b[0;34m[\u001b[0m\u001b[0;36m0.0\u001b[0m\u001b[0;34m]\u001b[0m\u001b[0;34m*\u001b[0m\u001b[0mnet\u001b[0m\u001b[0;34m[\u001b[0m\u001b[0mlen\u001b[0m\u001b[0;34m(\u001b[0m\u001b[0mnet\u001b[0m\u001b[0;34m)\u001b[0m\u001b[0;34m-\u001b[0m\u001b[0;36m1\u001b[0m\u001b[0;34m]\u001b[0m\u001b[0;34m)\u001b[0m\u001b[0;34m\u001b[0m\u001b[0;34m\u001b[0m\u001b[0m\n\u001b[0;32m---> 80\u001b[0;31m             \u001b[0mtarget\u001b[0m\u001b[0;34m[\u001b[0m\u001b[0mlen\u001b[0m\u001b[0;34m(\u001b[0m\u001b[0mnet\u001b[0m\u001b[0;34m)\u001b[0m\u001b[0;34m-\u001b[0m\u001b[0;36m1\u001b[0m\u001b[0;34m]\u001b[0m\u001b[0;34m[\u001b[0m\u001b[0mtraining_labels\u001b[0m\u001b[0;34m[\u001b[0m\u001b[0mexample\u001b[0m\u001b[0;34m]\u001b[0m\u001b[0;34m]\u001b[0m \u001b[0;34m=\u001b[0m \u001b[0;36m1.0\u001b[0m\u001b[0;34m\u001b[0m\u001b[0;34m\u001b[0m\u001b[0m\n\u001b[0m\u001b[1;32m     81\u001b[0m         \u001b[0;32melse\u001b[0m\u001b[0;34m:\u001b[0m\u001b[0;34m\u001b[0m\u001b[0;34m\u001b[0m\u001b[0m\n\u001b[1;32m     82\u001b[0m             \u001b[0mtarget\u001b[0m\u001b[0;34m[\u001b[0m\u001b[0mlen\u001b[0m\u001b[0;34m(\u001b[0m\u001b[0mnet\u001b[0m\u001b[0;34m)\u001b[0m\u001b[0;34m-\u001b[0m\u001b[0;36m1\u001b[0m\u001b[0;34m]\u001b[0m \u001b[0;34m=\u001b[0m \u001b[0mtraining_labels\u001b[0m\u001b[0;34m[\u001b[0m\u001b[0mexample\u001b[0m\u001b[0;34m]\u001b[0m\u001b[0;34m\u001b[0m\u001b[0;34m\u001b[0m\u001b[0m\n",
            "\u001b[0;31mIndexError\u001b[0m: only integers, slices (`:`), ellipsis (`...`), numpy.newaxis (`None`) and integer or boolean arrays are valid indices"
          ]
        }
      ]
    }
  ]
}